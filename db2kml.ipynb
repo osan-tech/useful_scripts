{
 "cells": [
  {
   "cell_type": "markdown",
   "id": "4c398e5e",
   "metadata": {},
   "source": [
    "# Plotting GPS positions to Google Earth KML file"
   ]
  },
  {
   "cell_type": "code",
   "execution_count": 2,
   "id": "9b3ccb22",
   "metadata": {},
   "outputs": [
    {
     "name": "stdout",
     "output_type": "stream",
     "text": [
      "   event_id        lat        lon\n",
      "0        77  59.867926  17.634380\n",
      "1       228  59.867956  17.634586\n",
      "2       429  59.867997  17.634620\n",
      "3       816  59.867952  17.634508\n",
      "4      1013  59.868040  17.634717\n"
     ]
    }
   ],
   "source": [
    "import pandas as pd\n",
    "import sqlite3\n",
    "\n",
    "# Read sqlite query results into a pandas DataFrame\n",
    "con = sqlite3.connect(\"walkML_0004_20220525_1226.sqlite3\")\n",
    "df = pd.read_sql_query(\"SELECT event_id, lat, lon from ts_gps\", con)\n",
    "\n",
    "# Verify that result of SQL query is stored in the dataframe\n",
    "print(df.head())\n",
    "\n",
    "con.close()\n"
   ]
  },
  {
   "cell_type": "code",
   "execution_count": 3,
   "id": "71ddc07f",
   "metadata": {},
   "outputs": [],
   "source": [
    "import simplekml"
   ]
  },
  {
   "cell_type": "code",
   "execution_count": 4,
   "id": "ba82c356",
   "metadata": {},
   "outputs": [],
   "source": [
    "kml = simplekml.Kml()\n",
    "\n",
    "for index, row in df.iterrows():\n",
    "    event_id = \"%i\" % row['event_id']\n",
    "#     print(event_id, row['lon'],row['lat'])\n",
    "#     kml.newpoint(name= event_id, coords=[(row['lon'], row['lat'])])  # lon, lat, optional height\n",
    "    kml.newpoint(name= (\"%i\" % row['event_id']), coords=[(row['lon'], row['lat'])])  # lon, lat, optional height"
   ]
  },
  {
   "cell_type": "code",
   "execution_count": 5,
   "id": "2ade2925",
   "metadata": {},
   "outputs": [],
   "source": [
    "kml.save(\"gps_path.kml\")"
   ]
  }
 ],
 "metadata": {
  "kernelspec": {
   "display_name": "Python 3 (ipykernel)",
   "language": "python",
   "name": "python3"
  },
  "language_info": {
   "codemirror_mode": {
    "name": "ipython",
    "version": 3
   },
   "file_extension": ".py",
   "mimetype": "text/x-python",
   "name": "python",
   "nbconvert_exporter": "python",
   "pygments_lexer": "ipython3",
   "version": "3.9.12"
  }
 },
 "nbformat": 4,
 "nbformat_minor": 5
}
